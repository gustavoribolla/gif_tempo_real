{
 "cells": [
  {
   "cell_type": "code",
   "execution_count": 3,
   "metadata": {},
   "outputs": [],
   "source": [
    "import numpy as np\n",
    "\n",
    "# Instalar a biblioteca cv2 pode ser um pouco demorado. Não deixe para ultima hora!\n",
    "import cv2 as cv\n",
    "\n",
    "def run():\n",
    "    # Essa função abre a câmera. Depois desta linha, a luz de câmera (se seu computador tiver) deve ligar.\n",
    "    cap = cv.VideoCapture(0)\n",
    "\n",
    "    # Aqui, defino a largura e a altura da imagem com a qual quero trabalhar.\n",
    "    # Dica: imagens menores precisam de menos processamento!!!\n",
    "    width = 320\n",
    "    height = 240\n",
    "\n",
    "    # Talvez o programa não consiga abrir a câmera. Verifique se há outros dispositivos acessando sua câmera!\n",
    "    if not cap.isOpened():\n",
    "        print(\"Não consegui abrir a câmera!\")\n",
    "        exit()\n",
    "\n",
    "    # Esse loop é igual a um loop de jogo: ele encerra quando apertamos 'q' no teclado.\n",
    "    while True:\n",
    "        # Captura um frame da câmera\n",
    "        ret, frame = cap.read()\n",
    "\n",
    "        # A variável `ret` indica se conseguimos capturar um frame\n",
    "        if not ret:\n",
    "            print(\"Não consegui capturar frame!\")\n",
    "            break\n",
    "\n",
    "        # Mudo o tamanho do meu frame para reduzir o processamento necessário\n",
    "        # nas próximas etapas\n",
    "        frame = cv.resize(frame, (width,height), interpolation =cv.INTER_AREA)\n",
    "\n",
    "        # A variável image é um np.array com shape=(width, height, colors)\n",
    "        image = np.array(frame).astype(float)/255\n",
    "\n",
    "        # Definindo o ângulo e a matriz\n",
    "        theta = np.pi / 12\n",
    "        A = np.array([[np.cos(theta), -np.sin(theta)],\n",
    "                    [np.sin(theta), np.cos(theta)]])\n",
    "\n",
    "        # Agora, mostrar a imagem na tela!\n",
    "        cv.imshow('Minha Imagem!', image)\n",
    "        \n",
    "        # Se aperto 'q', encerro o loop\n",
    "        if cv.waitKey(1) == ord('q'):\n",
    "            break\n",
    "\n",
    "    # Ao sair do loop, vamos devolver cuidadosamente os recursos ao sistema!\n",
    "    cap.release()\n",
    "    cv.destroyAllWindows()\n",
    "\n",
    "run()"
   ]
  }
 ],
 "metadata": {
  "kernelspec": {
   "display_name": ".venv",
   "language": "python",
   "name": "python3"
  },
  "language_info": {
   "codemirror_mode": {
    "name": "ipython",
    "version": 3
   },
   "file_extension": ".py",
   "mimetype": "text/x-python",
   "name": "python",
   "nbconvert_exporter": "python",
   "pygments_lexer": "ipython3",
   "version": "3.11.4"
  }
 },
 "nbformat": 4,
 "nbformat_minor": 2
}
